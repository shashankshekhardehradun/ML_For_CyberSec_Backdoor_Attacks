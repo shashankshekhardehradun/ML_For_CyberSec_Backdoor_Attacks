{
  "cells": [
    {
      "cell_type": "markdown",
      "metadata": {
        "id": "UwF2v5bNdhKV"
      },
      "source": [
        "## Import the necessary libraries"
      ]
    },
    {
      "cell_type": "code",
      "execution_count": 2,
      "metadata": {
        "id": "vB7W4IALFRCS"
      },
      "outputs": [],
      "source": [
        "import keras as k\n",
        "import h5py\n",
        "import pandas as pd\n",
        "import numpy as np\n",
        "import matplotlib.pyplot as plt\n",
        "from tqdm import tqdm"
      ]
    },
    {
      "cell_type": "code",
      "execution_count": 3,
      "metadata": {
        "id": "rLcqkwnMwPxu"
      },
      "outputs": [],
      "source": [
        "import warnings\n",
        "\n",
        "warnings.filterwarnings(\"ignore\")"
      ]
    },
    {
      "cell_type": "markdown",
      "metadata": {
        "id": "xmbIJnBneLF8"
      },
      "source": [
        "## Analysis of the original model"
      ]
    },
    {
      "cell_type": "code",
      "execution_count": 4,
      "metadata": {
        "colab": {
          "base_uri": "https://localhost:8080/"
        },
        "id": "rHopzGL9eXAj",
        "outputId": "6c797395-0772-48fd-e032-4c536f303c46"
      },
      "outputs": [
        {
          "name": "stdout",
          "output_type": "stream",
          "text": [
            "361/361 [==============================] - 4s 12ms/step\n",
            "Clean Classification accuracy is  98.64899974019225\n",
            "361/361 [==============================] - 5s 13ms/step\n",
            "Attack Success Rate is  100.0\n"
          ]
        }
      ],
      "source": [
        "clean_data_path = './data/cl/valid.h5'\n",
        "poisoned_data_path = './data/bd/bd_valid.h5'\n",
        "model_path = './models/bd_net.h5'\n",
        "\n",
        "def data_preparation(path):\n",
        "    data = h5py.File(path, 'r')\n",
        "    x_data = np.array(data['data'])\n",
        "    y_data = np.array(data['label'])\n",
        "    x_data = x_data.transpose((0,2,3,1))\n",
        "\n",
        "    return x_data, y_data\n",
        "\n",
        "clean_x_test, clean_y_test = data_preparation(clean_data_path)\n",
        "poisoned_x_test, posioned_y_test = data_preparation(poisoned_data_path)\n",
        "\n",
        "posioned_model = k.models.load_model(model_path)\n",
        "\n",
        "clean_label_p = np.argmax(posioned_model.predict(clean_x_test), axis=1)\n",
        "clean_accuracy = np.mean(np.equal(clean_label_p, clean_y_test))*100\n",
        "print('Clean Classification accuracy is ', clean_accuracy)\n",
        "\n",
        "posioned_label_p = np.argmax(posioned_model.predict(poisoned_x_test), axis=1)\n",
        "attack_success_rate = np.mean(np.equal(posioned_label_p, posioned_y_test))*100\n",
        "print('Attack Success Rate is ', attack_success_rate)"
      ]
    },
    {
      "cell_type": "code",
      "execution_count": 5,
      "metadata": {
        "id": "CbiGGU1-rlXq"
      },
      "outputs": [],
      "source": [
        "model = k.models.load_model(model_path)"
      ]
    },
    {
      "cell_type": "markdown",
      "metadata": {},
      "source": [
        "### Detailed overview of the original model"
      ]
    },
    {
      "cell_type": "code",
      "execution_count": 6,
      "metadata": {
        "colab": {
          "base_uri": "https://localhost:8080/"
        },
        "id": "xr9frp8C90Am",
        "outputId": "f10fdf20-2d25-475b-b732-b674c23a2cf4"
      },
      "outputs": [
        {
          "name": "stdout",
          "output_type": "stream",
          "text": [
            "Model: \"model_1\"\n",
            "__________________________________________________________________________________________________\n",
            " Layer (type)                Output Shape                 Param #   Connected to                  \n",
            "==================================================================================================\n",
            " input (InputLayer)          [(None, 55, 47, 3)]          0         []                            \n",
            "                                                                                                  \n",
            " conv_1 (Conv2D)             (None, 52, 44, 20)           980       ['input[0][0]']               \n",
            "                                                                                                  \n",
            " pool_1 (MaxPooling2D)       (None, 26, 22, 20)           0         ['conv_1[0][0]']              \n",
            "                                                                                                  \n",
            " conv_2 (Conv2D)             (None, 24, 20, 40)           7240      ['pool_1[0][0]']              \n",
            "                                                                                                  \n",
            " pool_2 (MaxPooling2D)       (None, 12, 10, 40)           0         ['conv_2[0][0]']              \n",
            "                                                                                                  \n",
            " conv_3 (Conv2D)             (None, 10, 8, 60)            21660     ['pool_2[0][0]']              \n",
            "                                                                                                  \n",
            " pool_3 (MaxPooling2D)       (None, 5, 4, 60)             0         ['conv_3[0][0]']              \n",
            "                                                                                                  \n",
            " conv_4 (Conv2D)             (None, 4, 3, 80)             19280     ['pool_3[0][0]']              \n",
            "                                                                                                  \n",
            " flatten_1 (Flatten)         (None, 1200)                 0         ['pool_3[0][0]']              \n",
            "                                                                                                  \n",
            " flatten_2 (Flatten)         (None, 960)                  0         ['conv_4[0][0]']              \n",
            "                                                                                                  \n",
            " fc_1 (Dense)                (None, 160)                  192160    ['flatten_1[0][0]']           \n",
            "                                                                                                  \n",
            " fc_2 (Dense)                (None, 160)                  153760    ['flatten_2[0][0]']           \n",
            "                                                                                                  \n",
            " add_1 (Add)                 (None, 160)                  0         ['fc_1[0][0]',                \n",
            "                                                                     'fc_2[0][0]']                \n",
            "                                                                                                  \n",
            " activation_1 (Activation)   (None, 160)                  0         ['add_1[0][0]']               \n",
            "                                                                                                  \n",
            " output (Dense)              (None, 1283)                 206563    ['activation_1[0][0]']        \n",
            "                                                                                                  \n",
            "==================================================================================================\n",
            "Total params: 601643 (2.30 MB)\n",
            "Trainable params: 601643 (2.30 MB)\n",
            "Non-trainable params: 0 (0.00 Byte)\n",
            "__________________________________________________________________________________________________\n",
            "None\n"
          ]
        }
      ],
      "source": [
        "print(model.summary())"
      ]
    },
    {
      "cell_type": "code",
      "execution_count": 7,
      "metadata": {
        "id": "9b3TEGQ1vVaI"
      },
      "outputs": [],
      "source": [
        "k.backend.clear_session()"
      ]
    },
    {
      "cell_type": "markdown",
      "metadata": {
        "id": "qsV4zCN7Zulw"
      },
      "source": [
        "## Model Pruning"
      ]
    },
    {
      "cell_type": "code",
      "execution_count": 8,
      "metadata": {
        "id": "NifUFwEpfqKk"
      },
      "outputs": [],
      "source": [
        "# Loading the clean and poisoned data\n",
        "clean_x_test, clean_y_test = data_preparation(clean_data_path)\n",
        "poisoned_x_test, posioned_y_test = data_preparation(poisoned_data_path)"
      ]
    },
    {
      "cell_type": "code",
      "execution_count": 9,
      "metadata": {
        "colab": {
          "base_uri": "https://localhost:8080/"
        },
        "id": "GQljzY8Ebrcs",
        "outputId": "75c51f01-2d7c-4c21-ede2-266ecc95a002"
      },
      "outputs": [
        {
          "name": "stdout",
          "output_type": "stream",
          "text": [
            "361/361 [==============================] - 4s 12ms/step\n"
          ]
        },
        {
          "name": "stderr",
          "output_type": "stream",
          "text": [
            "  0%|          | 0/60 [00:00<?, ?it/s]"
          ]
        },
        {
          "name": "stdout",
          "output_type": "stream",
          "text": [
            "361/361 [==============================] - 4s 12ms/step\n",
            "361/361 [==============================] - 4s 12ms/step\n"
          ]
        },
        {
          "name": "stderr",
          "output_type": "stream",
          "text": [
            "  2%|▏         | 1/60 [00:09<09:24,  9.56s/it]"
          ]
        },
        {
          "name": "stdout",
          "output_type": "stream",
          "text": [
            "\n",
            "The clean accuracy is  98.64899974019225\n",
            "The attack success rate is  100.0\n",
            "The pruned channel index is  0\n",
            "361/361 [==============================] - 4s 12ms/step\n",
            "361/361 [==============================] - 5s 14ms/step\n",
            "\n",
            "The clean accuracy is  98.64899974019225\n",
            "The attack success rate is  100.0\n",
            "The pruned channel index is  26\n"
          ]
        },
        {
          "name": "stderr",
          "output_type": "stream",
          "text": [
            "  3%|▎         | 2/60 [00:20<09:52, 10.22s/it]"
          ]
        },
        {
          "name": "stdout",
          "output_type": "stream",
          "text": [
            "361/361 [==============================] - 5s 13ms/step\n",
            "361/361 [==============================] - 5s 15ms/step\n"
          ]
        },
        {
          "name": "stderr",
          "output_type": "stream",
          "text": [
            "  5%|▌         | 3/60 [00:31<10:08, 10.67s/it]"
          ]
        },
        {
          "name": "stdout",
          "output_type": "stream",
          "text": [
            "\n",
            "The clean accuracy is  98.64899974019225\n",
            "The attack success rate is  100.0\n",
            "The pruned channel index is  27\n",
            "361/361 [==============================] - 5s 15ms/step\n",
            "361/361 [==============================] - 5s 13ms/step\n"
          ]
        },
        {
          "name": "stderr",
          "output_type": "stream",
          "text": [
            "  7%|▋         | 4/60 [00:42<10:13, 10.95s/it]"
          ]
        },
        {
          "name": "stdout",
          "output_type": "stream",
          "text": [
            "\n",
            "The clean accuracy is  98.64899974019225\n",
            "The attack success rate is  100.0\n",
            "The pruned channel index is  30\n",
            "361/361 [==============================] - 5s 14ms/step\n",
            "361/361 [==============================] - 5s 12ms/step\n",
            "\n",
            "The clean accuracy is  98.64899974019225\n",
            "The attack success rate is  100.0\n",
            "The pruned channel index is  31\n"
          ]
        },
        {
          "name": "stderr",
          "output_type": "stream",
          "text": [
            "  8%|▊         | 5/60 [00:53<09:56, 10.85s/it]"
          ]
        },
        {
          "name": "stdout",
          "output_type": "stream",
          "text": [
            "361/361 [==============================] - 5s 13ms/step\n",
            "361/361 [==============================] - 5s 13ms/step\n"
          ]
        },
        {
          "name": "stderr",
          "output_type": "stream",
          "text": [
            " 10%|█         | 6/60 [01:03<09:39, 10.73s/it]"
          ]
        },
        {
          "name": "stdout",
          "output_type": "stream",
          "text": [
            "\n",
            "The clean accuracy is  98.64899974019225\n",
            "The attack success rate is  100.0\n",
            "The pruned channel index is  33\n",
            "361/361 [==============================] - 5s 13ms/step\n",
            "361/361 [==============================] - 5s 14ms/step\n"
          ]
        },
        {
          "name": "stderr",
          "output_type": "stream",
          "text": [
            " 12%|█▏        | 7/60 [01:15<09:34, 10.84s/it]"
          ]
        },
        {
          "name": "stdout",
          "output_type": "stream",
          "text": [
            "\n",
            "The clean accuracy is  98.64899974019225\n",
            "The attack success rate is  100.0\n",
            "The pruned channel index is  34\n",
            "361/361 [==============================] - 4s 12ms/step\n",
            "361/361 [==============================] - 4s 12ms/step\n"
          ]
        },
        {
          "name": "stderr",
          "output_type": "stream",
          "text": [
            " 13%|█▎        | 8/60 [01:24<09:06, 10.51s/it]"
          ]
        },
        {
          "name": "stdout",
          "output_type": "stream",
          "text": [
            "\n",
            "The clean accuracy is  98.64899974019225\n",
            "The attack success rate is  100.0\n",
            "The pruned channel index is  36\n",
            "361/361 [==============================] - 5s 13ms/step\n",
            "361/361 [==============================] - 4s 12ms/step\n"
          ]
        },
        {
          "name": "stderr",
          "output_type": "stream",
          "text": [
            " 15%|█▌        | 9/60 [01:35<08:54, 10.47s/it]"
          ]
        },
        {
          "name": "stdout",
          "output_type": "stream",
          "text": [
            "\n",
            "The clean accuracy is  98.64899974019225\n",
            "The attack success rate is  100.0\n",
            "The pruned channel index is  37\n",
            "361/361 [==============================] - 5s 14ms/step\n",
            "361/361 [==============================] - 5s 14ms/step\n",
            "\n",
            "The clean accuracy is  98.64899974019225\n",
            "The attack success rate is  100.0\n",
            "The pruned channel index is  38\n"
          ]
        },
        {
          "name": "stderr",
          "output_type": "stream",
          "text": [
            " 17%|█▋        | 10/60 [01:46<09:02, 10.85s/it]"
          ]
        },
        {
          "name": "stdout",
          "output_type": "stream",
          "text": [
            "361/361 [==============================] - 4s 12ms/step\n",
            "361/361 [==============================] - 5s 14ms/step\n"
          ]
        },
        {
          "name": "stderr",
          "output_type": "stream",
          "text": [
            " 18%|█▊        | 11/60 [01:57<08:49, 10.80s/it]"
          ]
        },
        {
          "name": "stdout",
          "output_type": "stream",
          "text": [
            "\n",
            "The clean accuracy is  98.64899974019225\n",
            "The attack success rate is  100.0\n",
            "The pruned channel index is  25\n",
            "361/361 [==============================] - 5s 13ms/step\n",
            "361/361 [==============================] - 6s 16ms/step\n"
          ]
        },
        {
          "name": "stderr",
          "output_type": "stream",
          "text": [
            " 20%|██        | 12/60 [02:09<08:53, 11.11s/it]"
          ]
        },
        {
          "name": "stdout",
          "output_type": "stream",
          "text": [
            "\n",
            "The clean accuracy is  98.64899974019225\n",
            "The attack success rate is  100.0\n",
            "The pruned channel index is  39\n",
            "361/361 [==============================] - 5s 13ms/step\n",
            "361/361 [==============================] - 5s 13ms/step\n"
          ]
        },
        {
          "name": "stderr",
          "output_type": "stream",
          "text": [
            " 22%|██▏       | 13/60 [02:20<08:35, 10.97s/it]"
          ]
        },
        {
          "name": "stdout",
          "output_type": "stream",
          "text": [
            "\n",
            "The clean accuracy is  98.64899974019225\n",
            "The attack success rate is  100.0\n",
            "The pruned channel index is  41\n",
            "361/361 [==============================] - 6s 16ms/step\n",
            "361/361 [==============================] - 5s 15ms/step\n"
          ]
        },
        {
          "name": "stderr",
          "output_type": "stream",
          "text": [
            " 23%|██▎       | 14/60 [02:32<08:46, 11.45s/it]"
          ]
        },
        {
          "name": "stdout",
          "output_type": "stream",
          "text": [
            "\n",
            "The clean accuracy is  98.64899974019225\n",
            "The attack success rate is  100.0\n",
            "The pruned channel index is  44\n",
            "361/361 [==============================] - 6s 15ms/step\n",
            "361/361 [==============================] - 5s 15ms/step\n",
            "\n",
            "The clean accuracy is  98.64899974019225\n",
            "The attack success rate is  100.0\n",
            "The pruned channel index is  45\n"
          ]
        },
        {
          "name": "stderr",
          "output_type": "stream",
          "text": [
            " 25%|██▌       | 15/60 [02:44<08:46, 11.71s/it]"
          ]
        },
        {
          "name": "stdout",
          "output_type": "stream",
          "text": [
            "361/361 [==============================] - 5s 13ms/step\n",
            "361/361 [==============================] - 5s 13ms/step\n",
            "\n",
            "The clean accuracy is  98.64899974019225\n",
            "The attack success rate is  100.0\n",
            "The pruned channel index is  47\n"
          ]
        },
        {
          "name": "stderr",
          "output_type": "stream",
          "text": [
            " 27%|██▋       | 16/60 [02:55<08:20, 11.38s/it]"
          ]
        },
        {
          "name": "stdout",
          "output_type": "stream",
          "text": [
            "361/361 [==============================] - 5s 13ms/step\n",
            "361/361 [==============================] - 4s 12ms/step\n"
          ]
        },
        {
          "name": "stderr",
          "output_type": "stream",
          "text": [
            " 28%|██▊       | 17/60 [03:05<07:56, 11.09s/it]"
          ]
        },
        {
          "name": "stdout",
          "output_type": "stream",
          "text": [
            "\n",
            "The clean accuracy is  98.64899974019225\n",
            "The attack success rate is  100.0\n",
            "The pruned channel index is  48\n",
            "361/361 [==============================] - 5s 13ms/step\n",
            "361/361 [==============================] - 4s 12ms/step\n",
            "\n",
            "The clean accuracy is  98.64899974019225\n",
            "The attack success rate is  100.0\n",
            "The pruned channel index is  49\n"
          ]
        },
        {
          "name": "stderr",
          "output_type": "stream",
          "text": [
            " 30%|███       | 18/60 [03:16<07:34, 10.83s/it]"
          ]
        },
        {
          "name": "stdout",
          "output_type": "stream",
          "text": [
            "361/361 [==============================] - 4s 12ms/step\n",
            "361/361 [==============================] - 4s 12ms/step\n"
          ]
        },
        {
          "name": "stderr",
          "output_type": "stream",
          "text": [
            " 32%|███▏      | 19/60 [03:26<07:13, 10.57s/it]"
          ]
        },
        {
          "name": "stdout",
          "output_type": "stream",
          "text": [
            "\n",
            "The clean accuracy is  98.64899974019225\n",
            "The attack success rate is  100.0\n",
            "The pruned channel index is  50\n",
            "361/361 [==============================] - 4s 12ms/step\n",
            "361/361 [==============================] - 5s 13ms/step\n"
          ]
        },
        {
          "name": "stderr",
          "output_type": "stream",
          "text": [
            " 33%|███▎      | 20/60 [03:36<06:58, 10.46s/it]"
          ]
        },
        {
          "name": "stdout",
          "output_type": "stream",
          "text": [
            "\n",
            "The clean accuracy is  98.64899974019225\n",
            "The attack success rate is  100.0\n",
            "The pruned channel index is  53\n",
            "361/361 [==============================] - 5s 14ms/step\n",
            "361/361 [==============================] - 6s 15ms/step\n",
            "\n",
            "The clean accuracy is  98.64899974019225\n",
            "The attack success rate is  100.0\n",
            "The pruned channel index is  55\n"
          ]
        },
        {
          "name": "stderr",
          "output_type": "stream",
          "text": [
            " 35%|███▌      | 21/60 [03:48<07:04, 10.88s/it]"
          ]
        },
        {
          "name": "stdout",
          "output_type": "stream",
          "text": [
            "361/361 [==============================] - 5s 14ms/step\n",
            "361/361 [==============================] - 5s 13ms/step\n"
          ]
        },
        {
          "name": "stderr",
          "output_type": "stream",
          "text": [
            " 37%|███▋      | 22/60 [03:59<06:59, 11.04s/it]"
          ]
        },
        {
          "name": "stdout",
          "output_type": "stream",
          "text": [
            "\n",
            "The clean accuracy is  98.64899974019225\n",
            "The attack success rate is  100.0\n",
            "The pruned channel index is  40\n",
            "361/361 [==============================] - 5s 15ms/step\n",
            "361/361 [==============================] - 5s 15ms/step\n",
            "\n",
            "The clean accuracy is  98.64899974019225\n",
            "The attack success rate is  100.0\n",
            "The pruned channel index is  24\n"
          ]
        },
        {
          "name": "stderr",
          "output_type": "stream",
          "text": [
            " 38%|███▊      | 23/60 [04:11<07:01, 11.39s/it]"
          ]
        },
        {
          "name": "stdout",
          "output_type": "stream",
          "text": [
            "361/361 [==============================] - 5s 14ms/step\n",
            "361/361 [==============================] - 5s 15ms/step\n",
            "\n",
            "The clean accuracy is  98.64899974019225\n",
            "The attack success rate is  100.0\n",
            "The pruned channel index is  59\n"
          ]
        },
        {
          "name": "stderr",
          "output_type": "stream",
          "text": [
            " 40%|████      | 24/60 [04:23<06:57, 11.59s/it]"
          ]
        },
        {
          "name": "stdout",
          "output_type": "stream",
          "text": [
            "361/361 [==============================] - 5s 15ms/step\n",
            "361/361 [==============================] - 5s 14ms/step\n",
            "\n",
            "The clean accuracy is  98.64899974019225\n",
            "The attack success rate is  100.0\n",
            "The pruned channel index is  9\n"
          ]
        },
        {
          "name": "stderr",
          "output_type": "stream",
          "text": [
            " 42%|████▏     | 25/60 [04:35<06:49, 11.69s/it]"
          ]
        },
        {
          "name": "stdout",
          "output_type": "stream",
          "text": [
            "361/361 [==============================] - 5s 15ms/step\n",
            "361/361 [==============================] - 5s 14ms/step\n",
            "\n",
            "The clean accuracy is  98.64899974019225\n",
            "The attack success rate is  100.0\n",
            "The pruned channel index is  2\n"
          ]
        },
        {
          "name": "stderr",
          "output_type": "stream",
          "text": [
            " 43%|████▎     | 26/60 [04:47<06:38, 11.72s/it]"
          ]
        },
        {
          "name": "stdout",
          "output_type": "stream",
          "text": [
            "361/361 [==============================] - 5s 13ms/step\n",
            "361/361 [==============================] - 5s 14ms/step\n"
          ]
        },
        {
          "name": "stderr",
          "output_type": "stream",
          "text": [
            " 45%|████▌     | 27/60 [04:58<06:19, 11.51s/it]"
          ]
        },
        {
          "name": "stdout",
          "output_type": "stream",
          "text": [
            "\n",
            "The clean accuracy is  98.64899974019225\n",
            "The attack success rate is  100.0\n",
            "The pruned channel index is  12\n",
            "361/361 [==============================] - 5s 15ms/step\n",
            "361/361 [==============================] - 5s 14ms/step\n",
            "\n",
            "The clean accuracy is  98.64899974019225\n",
            "The attack success rate is  100.0\n",
            "The pruned channel index is  13\n"
          ]
        },
        {
          "name": "stderr",
          "output_type": "stream",
          "text": [
            " 47%|████▋     | 28/60 [05:10<06:10, 11.58s/it]"
          ]
        },
        {
          "name": "stdout",
          "output_type": "stream",
          "text": [
            "361/361 [==============================] - 5s 13ms/step\n",
            "361/361 [==============================] - 5s 13ms/step\n"
          ]
        },
        {
          "name": "stderr",
          "output_type": "stream",
          "text": [
            " 48%|████▊     | 29/60 [05:21<05:51, 11.35s/it]"
          ]
        },
        {
          "name": "stdout",
          "output_type": "stream",
          "text": [
            "\n",
            "The clean accuracy is  98.64899974019225\n",
            "The attack success rate is  100.0\n",
            "The pruned channel index is  17\n",
            "361/361 [==============================] - 5s 13ms/step\n",
            "361/361 [==============================] - 4s 12ms/step\n",
            "\n"
          ]
        },
        {
          "name": "stderr",
          "output_type": "stream",
          "text": [
            " 50%|█████     | 30/60 [05:31<05:31, 11.04s/it]"
          ]
        },
        {
          "name": "stdout",
          "output_type": "stream",
          "text": [
            "The clean accuracy is  98.64899974019225\n",
            "The attack success rate is  100.0\n",
            "The pruned channel index is  14\n",
            "361/361 [==============================] - 6s 15ms/step\n",
            "361/361 [==============================] - 5s 15ms/step\n",
            "\n",
            "The clean accuracy is  98.64899974019225\n",
            "The attack success rate is  100.0\n",
            "The pruned channel index is  15\n"
          ]
        },
        {
          "name": "stderr",
          "output_type": "stream",
          "text": [
            " 52%|█████▏    | 31/60 [05:44<05:33, 11.50s/it]"
          ]
        },
        {
          "name": "stdout",
          "output_type": "stream",
          "text": [
            "361/361 [==============================] - 5s 14ms/step\n",
            "361/361 [==============================] - 4s 12ms/step\n",
            "\n",
            "The clean accuracy is  98.64899974019225\n",
            "The attack success rate is  100.0\n",
            "The pruned channel index is  23\n"
          ]
        },
        {
          "name": "stderr",
          "output_type": "stream",
          "text": [
            " 53%|█████▎    | 32/60 [05:54<05:15, 11.26s/it]"
          ]
        },
        {
          "name": "stdout",
          "output_type": "stream",
          "text": [
            "361/361 [==============================] - 5s 13ms/step\n",
            "361/361 [==============================] - 5s 14ms/step\n"
          ]
        },
        {
          "name": "stderr",
          "output_type": "stream",
          "text": [
            " 55%|█████▌    | 33/60 [06:05<05:00, 11.12s/it]"
          ]
        },
        {
          "name": "stdout",
          "output_type": "stream",
          "text": [
            "\n",
            "The clean accuracy is  98.64899974019225\n",
            "The attack success rate is  100.0\n",
            "The pruned channel index is  6\n",
            "361/361 [==============================] - 5s 13ms/step\n",
            "361/361 [==============================] - 5s 13ms/step\n",
            "\n"
          ]
        },
        {
          "name": "stderr",
          "output_type": "stream",
          "text": [
            " 57%|█████▋    | 34/60 [06:16<04:45, 10.98s/it]"
          ]
        },
        {
          "name": "stdout",
          "output_type": "stream",
          "text": [
            "The clean accuracy is  98.64033948211657\n",
            "The attack success rate is  100.0\n",
            "The pruned channel index is  51\n",
            "361/361 [==============================] - 3s 9ms/step\n",
            "361/361 [==============================] - 4s 10ms/step\n"
          ]
        },
        {
          "name": "stderr",
          "output_type": "stream",
          "text": [
            " 58%|█████▊    | 35/60 [06:24<04:10, 10.03s/it]"
          ]
        },
        {
          "name": "stdout",
          "output_type": "stream",
          "text": [
            "\n",
            "The clean accuracy is  98.64033948211657\n",
            "The attack success rate is  100.0\n",
            "The pruned channel index is  32\n",
            "361/361 [==============================] - 4s 11ms/step\n",
            "361/361 [==============================] - 4s 11ms/step\n"
          ]
        },
        {
          "name": "stderr",
          "output_type": "stream",
          "text": [
            " 60%|██████    | 36/60 [06:33<03:53,  9.71s/it]"
          ]
        },
        {
          "name": "stdout",
          "output_type": "stream",
          "text": [
            "\n",
            "The clean accuracy is  98.63167922404088\n",
            "The attack success rate is  100.0\n",
            "The pruned channel index is  22\n",
            "361/361 [==============================] - 4s 11ms/step\n",
            "361/361 [==============================] - 4s 10ms/step\n",
            "\n",
            "The clean accuracy is  98.65765999826795\n",
            "The attack success rate is  100.0\n",
            "The pruned channel index is  21\n"
          ]
        },
        {
          "name": "stderr",
          "output_type": "stream",
          "text": [
            " 62%|██████▏   | 37/60 [06:41<03:34,  9.32s/it]"
          ]
        },
        {
          "name": "stdout",
          "output_type": "stream",
          "text": [
            "361/361 [==============================] - 4s 10ms/step\n",
            "361/361 [==============================] - 4s 11ms/step\n",
            "\n",
            "The clean accuracy is  98.64899974019225\n",
            "The attack success rate is  100.0\n",
            "The pruned channel index is  20\n"
          ]
        },
        {
          "name": "stderr",
          "output_type": "stream",
          "text": [
            " 63%|██████▎   | 38/60 [06:49<03:19,  9.07s/it]"
          ]
        },
        {
          "name": "stdout",
          "output_type": "stream",
          "text": [
            "361/361 [==============================] - 4s 10ms/step\n",
            "361/361 [==============================] - 4s 10ms/step\n"
          ]
        },
        {
          "name": "stderr",
          "output_type": "stream",
          "text": [
            " 65%|██████▌   | 39/60 [06:58<03:06,  8.86s/it]"
          ]
        },
        {
          "name": "stdout",
          "output_type": "stream",
          "text": [
            "\n",
            "The clean accuracy is  98.6056984498138\n",
            "The attack success rate is  100.0\n",
            "The pruned channel index is  19\n",
            "361/361 [==============================] - 4s 10ms/step\n",
            "361/361 [==============================] - 4s 10ms/step\n"
          ]
        },
        {
          "name": "stderr",
          "output_type": "stream",
          "text": [
            " 67%|██████▋   | 40/60 [07:06<02:54,  8.72s/it]"
          ]
        },
        {
          "name": "stdout",
          "output_type": "stream",
          "text": [
            "\n",
            "The clean accuracy is  98.57105741751104\n",
            "The attack success rate is  100.0\n",
            "The pruned channel index is  43\n",
            "361/361 [==============================] - 4s 10ms/step\n",
            "361/361 [==============================] - 4s 10ms/step\n"
          ]
        },
        {
          "name": "stderr",
          "output_type": "stream",
          "text": [
            " 68%|██████▊   | 41/60 [07:15<02:44,  8.65s/it]"
          ]
        },
        {
          "name": "stdout",
          "output_type": "stream",
          "text": [
            "\n",
            "The clean accuracy is  98.53641638520828\n",
            "The attack success rate is  100.0\n",
            "The pruned channel index is  58\n",
            "361/361 [==============================] - 4s 10ms/step\n",
            "361/361 [==============================] - 3s 9ms/step\n"
          ]
        },
        {
          "name": "stderr",
          "output_type": "stream",
          "text": [
            " 70%|███████   | 42/60 [07:24<02:39,  8.84s/it]"
          ]
        },
        {
          "name": "stdout",
          "output_type": "stream",
          "text": [
            "\n",
            "The clean accuracy is  98.19000606218066\n",
            "The attack success rate is  100.0\n",
            "The pruned channel index is  3\n",
            "361/361 [==============================] - 4s 11ms/step\n",
            "361/361 [==============================] - 4s 10ms/step\n"
          ]
        },
        {
          "name": "stderr",
          "output_type": "stream",
          "text": [
            " 72%|███████▏  | 43/60 [07:33<02:29,  8.79s/it]"
          ]
        },
        {
          "name": "stdout",
          "output_type": "stream",
          "text": [
            "\n",
            "The clean accuracy is  97.65307006148784\n",
            "The attack success rate is  100.0\n",
            "The pruned channel index is  42\n",
            "361/361 [==============================] - 4s 11ms/step\n",
            "361/361 [==============================] - 4s 11ms/step\n",
            "\n",
            "The clean accuracy is  97.50584567420108\n",
            "The attack success rate is  100.0\n",
            "The pruned channel index is  1\n"
          ]
        },
        {
          "name": "stderr",
          "output_type": "stream",
          "text": [
            " 73%|███████▎  | 44/60 [07:41<02:20,  8.79s/it]"
          ]
        },
        {
          "name": "stdout",
          "output_type": "stream",
          "text": [
            "361/361 [==============================] - 4s 10ms/step\n",
            "Saving the model at 2 percent accuracy drop\n",
            "WARNING:tensorflow:Compiled the loaded model, but the compiled metrics have yet to be built. `model.compile_metrics` will be empty until you train or evaluate the model.\n",
            "361/361 [==============================] - 4s 12ms/step\n"
          ]
        },
        {
          "name": "stderr",
          "output_type": "stream",
          "text": [
            " 75%|███████▌  | 45/60 [07:51<02:13,  8.89s/it]"
          ]
        },
        {
          "name": "stdout",
          "output_type": "stream",
          "text": [
            "\n",
            "The clean accuracy is  95.75647354291158\n",
            "The attack success rate is  100.0\n",
            "The pruned channel index is  29\n",
            "361/361 [==============================] - 4s 10ms/step\n",
            "361/361 [==============================] - 4s 10ms/step\n",
            "\n",
            "The clean accuracy is  95.20221702606739\n",
            "The attack success rate is  99.9913397419243\n",
            "The pruned channel index is  16\n"
          ]
        },
        {
          "name": "stderr",
          "output_type": "stream",
          "text": [
            " 77%|███████▋  | 46/60 [07:59<02:02,  8.76s/it]"
          ]
        },
        {
          "name": "stdout",
          "output_type": "stream",
          "text": [
            "361/361 [==============================] - 4s 10ms/step\n",
            "361/361 [==============================] - 4s 10ms/step\n",
            "\n",
            "The clean accuracy is  94.7172425738287\n",
            "The attack success rate is  99.9913397419243\n",
            "The pruned channel index is  56\n"
          ]
        },
        {
          "name": "stderr",
          "output_type": "stream",
          "text": [
            " 78%|███████▊  | 47/60 [08:07<01:51,  8.61s/it]"
          ]
        },
        {
          "name": "stdout",
          "output_type": "stream",
          "text": [
            "361/361 [==============================] - 4s 12ms/step\n",
            "Saving the model at 4 percent accuracy drop\n",
            "WARNING:tensorflow:Compiled the loaded model, but the compiled metrics have yet to be built. `model.compile_metrics` will be empty until you train or evaluate the model.\n",
            "361/361 [==============================] - 4s 11ms/step\n"
          ]
        },
        {
          "name": "stderr",
          "output_type": "stream",
          "text": [
            " 80%|████████  | 48/60 [08:18<01:49,  9.12s/it]"
          ]
        },
        {
          "name": "stdout",
          "output_type": "stream",
          "text": [
            "\n",
            "The clean accuracy is  92.09318437689443\n",
            "The attack success rate is  99.9913397419243\n",
            "The pruned channel index is  46\n",
            "361/361 [==============================] - 4s 11ms/step\n",
            "361/361 [==============================] - 4s 11ms/step\n"
          ]
        },
        {
          "name": "stderr",
          "output_type": "stream",
          "text": [
            " 82%|████████▏ | 49/60 [08:26<01:39,  9.01s/it]"
          ]
        },
        {
          "name": "stdout",
          "output_type": "stream",
          "text": [
            "\n",
            "The clean accuracy is  91.49562656967177\n",
            "The attack success rate is  99.9913397419243\n",
            "The pruned channel index is  5\n",
            "361/361 [==============================] - 4s 11ms/step\n",
            "361/361 [==============================] - 4s 11ms/step\n",
            "\n",
            "The clean accuracy is  91.01931237550879\n",
            "The attack success rate is  99.98267948384861\n",
            "The pruned channel index is  8\n"
          ]
        },
        {
          "name": "stderr",
          "output_type": "stream",
          "text": [
            " 83%|████████▎ | 50/60 [08:35<01:30,  9.04s/it]"
          ]
        },
        {
          "name": "stdout",
          "output_type": "stream",
          "text": [
            "361/361 [==============================] - 4s 10ms/step\n",
            "361/361 [==============================] - 4s 10ms/step\n"
          ]
        },
        {
          "name": "stderr",
          "output_type": "stream",
          "text": [
            " 85%|████████▌ | 51/60 [08:44<01:19,  8.82s/it]"
          ]
        },
        {
          "name": "stdout",
          "output_type": "stream",
          "text": [
            "\n",
            "The clean accuracy is  89.17467740538669\n",
            "The attack success rate is  80.73958603966398\n",
            "The pruned channel index is  11\n",
            "361/361 [==============================] - 4s 12ms/step\n",
            "Saving the model at 10 percent accuracy drop\n",
            "WARNING:tensorflow:Compiled the loaded model, but the compiled metrics have yet to be built. `model.compile_metrics` will be empty until you train or evaluate the model.\n",
            "361/361 [==============================] - 4s 11ms/step\n"
          ]
        },
        {
          "name": "stderr",
          "output_type": "stream",
          "text": [
            " 87%|████████▋ | 52/60 [08:55<01:15,  9.41s/it]"
          ]
        },
        {
          "name": "stdout",
          "output_type": "stream",
          "text": [
            "\n",
            "The clean accuracy is  84.43751623798389\n",
            "The attack success rate is  77.015675067117\n",
            "The pruned channel index is  54\n",
            "361/361 [==============================] - 3s 9ms/step\n",
            "361/361 [==============================] - 4s 10ms/step\n"
          ]
        },
        {
          "name": "stderr",
          "output_type": "stream",
          "text": [
            " 88%|████████▊ | 53/60 [09:02<01:02,  8.97s/it]"
          ]
        },
        {
          "name": "stdout",
          "output_type": "stream",
          "text": [
            "\n",
            "The clean accuracy is  76.48739932449988\n",
            "The attack success rate is  35.71490430414826\n",
            "The pruned channel index is  10\n",
            "361/361 [==============================] - 4s 11ms/step\n",
            "361/361 [==============================] - 4s 10ms/step\n"
          ]
        },
        {
          "name": "stderr",
          "output_type": "stream",
          "text": [
            " 90%|█████████ | 54/60 [09:11<00:53,  8.95s/it]"
          ]
        },
        {
          "name": "stdout",
          "output_type": "stream",
          "text": [
            "\n",
            "The clean accuracy is  54.8627349095003\n",
            "The attack success rate is  6.954187234779596\n",
            "The pruned channel index is  28\n",
            "361/361 [==============================] - 4s 11ms/step\n",
            "361/361 [==============================] - 4s 12ms/step\n"
          ]
        },
        {
          "name": "stderr",
          "output_type": "stream",
          "text": [
            " 92%|█████████▏| 55/60 [09:21<00:45,  9.12s/it]"
          ]
        },
        {
          "name": "stdout",
          "output_type": "stream",
          "text": [
            "\n",
            "The clean accuracy is  27.08928726076037\n",
            "The attack success rate is  0.4243526457088421\n",
            "The pruned channel index is  35\n",
            "361/361 [==============================] - 5s 13ms/step\n",
            "361/361 [==============================] - 4s 12ms/step\n"
          ]
        },
        {
          "name": "stderr",
          "output_type": "stream",
          "text": [
            " 93%|█████████▎| 56/60 [09:32<00:38,  9.67s/it]"
          ]
        },
        {
          "name": "stdout",
          "output_type": "stream",
          "text": [
            "\n",
            "The clean accuracy is  13.87373343725643\n",
            "The attack success rate is  0.0\n",
            "The pruned channel index is  18\n",
            "361/361 [==============================] - 4s 11ms/step\n",
            "361/361 [==============================] - 4s 11ms/step\n",
            "\n",
            "The clean accuracy is  7.101411622066338\n",
            "The attack success rate is  0.0\n",
            "The pruned channel index is  4\n"
          ]
        },
        {
          "name": "stderr",
          "output_type": "stream",
          "text": [
            " 95%|█████████▌| 57/60 [09:41<00:28,  9.57s/it]"
          ]
        },
        {
          "name": "stdout",
          "output_type": "stream",
          "text": [
            "361/361 [==============================] - 4s 11ms/step\n",
            "361/361 [==============================] - 4s 11ms/step\n",
            "\n",
            "The clean accuracy is  1.5501861955486274\n",
            "The attack success rate is  0.0\n",
            "The pruned channel index is  7\n"
          ]
        },
        {
          "name": "stderr",
          "output_type": "stream",
          "text": [
            " 97%|█████████▋| 58/60 [09:50<00:18,  9.44s/it]"
          ]
        },
        {
          "name": "stdout",
          "output_type": "stream",
          "text": [
            "361/361 [==============================] - 4s 11ms/step\n",
            "361/361 [==============================] - 4s 11ms/step\n",
            "\n",
            "The clean accuracy is  0.7188014202823244\n",
            "The attack success rate is  0.0\n",
            "The pruned channel index is  52\n"
          ]
        },
        {
          "name": "stderr",
          "output_type": "stream",
          "text": [
            " 98%|█████████▊| 59/60 [09:59<00:09,  9.35s/it]"
          ]
        },
        {
          "name": "stdout",
          "output_type": "stream",
          "text": [
            "361/361 [==============================] - 4s 11ms/step\n",
            "361/361 [==============================] - 4s 11ms/step\n"
          ]
        },
        {
          "name": "stderr",
          "output_type": "stream",
          "text": [
            "100%|██████████| 60/60 [10:09<00:00, 10.15s/it]"
          ]
        },
        {
          "name": "stdout",
          "output_type": "stream",
          "text": [
            "\n",
            "The clean accuracy is  0.0779423226812159\n",
            "The attack success rate is  0.0\n",
            "The pruned channel index is  57\n"
          ]
        },
        {
          "name": "stderr",
          "output_type": "stream",
          "text": [
            "\n"
          ]
        }
      ],
      "source": [
        "clean_data_acc = 98.64899974019225\n",
        "model_duplicate = k.models.clone_model(model)\n",
        "model_duplicate.set_weights(model.get_weights()) \n",
        "clean_acc = []\n",
        "attack_success_rate_list = []\n",
        "saved_model = np.zeros(3,dtype=bool)\n",
        "\n",
        "# activation of the last pooling layer\n",
        "layer_output=model_duplicate.get_layer('pool_3').output\n",
        "intermediate_model=k.models.Model(inputs=model_duplicate.input,outputs=layer_output)\n",
        "intermediate_prediction=intermediate_model.predict(clean_x_test)  \n",
        "seq = np.argsort(np.mean(intermediate_prediction,axis=(0,1,2)))\n",
        "weight = model_duplicate.layers[5].get_weights()[0]\n",
        "bias = model_duplicate.layers[5].get_weights()[1]\n",
        "\n",
        "for idx in tqdm(seq): \n",
        "  weight[:,:,:,idx] = 0\n",
        "  bias[idx] = 0\n",
        "  model_duplicate.layers[5].set_weights([weight, bias])\n",
        "  clean_label_p = np.argmax(model_duplicate.predict(clean_x_test), axis=1)\n",
        "  clean_accuracy = np.mean(np.equal(clean_label_p, clean_y_test))*100\n",
        "\n",
        "  if (clean_data_acc-clean_accuracy >= 2 and not saved_model[0]):\n",
        "    print(\"Saving the model at 2 percent accuracy drop\")\n",
        "    model_duplicate.save('acc_drop_2.h5')\n",
        "    saved_model[0] = 1\n",
        "\n",
        "  if (clean_data_acc-clean_accuracy >= 4 and not saved_model[1]):\n",
        "    print(\"Saving the model at 4 percent accuracy drop\")\n",
        "    model_duplicate.save('acc_drop_4.h5')\n",
        "    saved_model[1] = 1\n",
        "\n",
        "  if (clean_data_acc-clean_accuracy >= 10 and not saved_model[2]):\n",
        "    print(\"Saving the model at 10 percent accuracy drop\")\n",
        "    model_duplicate.save('acc_drop_10.h5')\n",
        "    saved_model[2] = 1\n",
        "\n",
        "  clean_acc.append(clean_accuracy)\n",
        "  bad_label_p = np.argmax(model_duplicate.predict(poisoned_x_test), axis=1)\n",
        "  attack_success_rate = np.mean(np.equal(bad_label_p, posioned_y_test))*100\n",
        "  attack_success_rate_list.append(attack_success_rate)\n",
        "\n",
        "  print(f\"\\nThe clean accuracy is {clean_accuracy}\")\n",
        "  print(f\"The attack success rate is {attack_success_rate}\")\n",
        "  print(f\"The pruned channel index is {idx}\")\n",
        "  k.backend.clear_session()\n"
      ]
    },
    {
      "cell_type": "markdown",
      "metadata": {},
      "source": [
        "### Visualizing the accuracy and attack success rates"
      ]
    },
    {
      "cell_type": "code",
      "execution_count": 14,
      "metadata": {
        "colab": {
          "base_uri": "https://localhost:8080/",
          "height": 312
        },
        "id": "06DL1vGAeKUX",
        "outputId": "03e200a4-005d-4e91-a748-17547c5e76df"
      },
      "outputs": [
        {
          "data": {
            "text/plain": [
              "Text(0.5, 1.0, 'Clean Accuracy and Attack Success Rate on Validation Data')"
            ]
          },
          "execution_count": 14,
          "metadata": {},
          "output_type": "execute_result"
        },
        {
          "data": {
            "image/png": "[encoded data removed]",
            "text/plain": [
              "<Figure size 640x480 with 1 Axes>"
            ]
          },
          "metadata": {},
          "output_type": "display_data"
        }
      ],
      "source": [
        "x_axis = np.arange(1,61)/60\n",
        "plt.plot(x_axis,clean_acc, color='green')\n",
        "plt.plot(x_axis,attack_success_rate_list, color='red')\n",
        "plt.legend(['Clean Accuracy','Attack Success Rate'])\n",
        "plt.xlabel(\"Ratio of Pruned Channels\")\n",
        "plt.ylabel(\"Rate\")\n",
        "plt.title(\"Clean Accuracy and Attack Success Rate on Validation Data\")"
      ]
    },
    {
      "cell_type": "code",
      "execution_count": 11,
      "metadata": {
        "colab": {
          "base_uri": "https://localhost:8080/"
        },
        "id": "wkPnRDg1iIXR",
        "outputId": "2d6e28eb-619b-4856-df55-92d21089037b"
      },
      "outputs": [
        {
          "name": "stdout",
          "output_type": "stream",
          "text": [
            "The attack success rate at the accuracy drop of 30 percent is 6.954187234779596\n"
          ]
        }
      ],
      "source": [
        "index = np.where(np.array(clean_acc) <= (clean_data_acc-30))[0]\n",
        "print(f\"The attack success rate at the accuracy drop of 30 percent is {attack_success_rate_list[index[0]]}\")"
      ]
    },
    {
      "cell_type": "markdown",
      "metadata": {
        "id": "sCfsP5nZmT5Q"
      },
      "source": [
        "## Merging the models"
      ]
    },
    {
      "cell_type": "code",
      "execution_count": 12,
      "metadata": {
        "id": "6E00xt5RiwVi"
      },
      "outputs": [],
      "source": [
        "class G(k.Model):\n",
        "  def __init__(self, B, B_dash):\n",
        "      super(G, self).__init__()\n",
        "      self.B = B\n",
        "      self.B_dash = B_dash\n",
        "\n",
        "  def predict(self,data):\n",
        "      y = np.argmax(self.B(data), axis=1)\n",
        "      y_prime = np.argmax(self.B_dash(data), axis=1)\n",
        "      pred = np.zeros(data.shape[0])\n",
        "      for i in range(data.shape[0]):\n",
        "        if y[i]==y_prime[i]:\n",
        "          pred[i] = y[i]\n",
        "        else:\n",
        "          pred[i] = 1283\n",
        "      return pred"
      ]
    },
    {
      "cell_type": "markdown",
      "metadata": {
        "id": "1VzGeAwDrZu2"
      },
      "source": [
        "## Evaluating the merged model"
      ]
    },
    {
      "cell_type": "code",
      "execution_count": 13,
      "metadata": {
        "id": "lC0cTvx4rdHP"
      },
      "outputs": [],
      "source": [
        "test_data_path = './data/cl/test.h5'\n",
        "poisoned_test_data_path = './data/bd/bd_test.h5'\n",
        "test_acc_drop_2_path = './acc_drop_2.h5'\n",
        "test_acc_drop_4_path = './acc_drop_4.h5'\n",
        "test_acc_drop_10_path = './acc_drop_10.h5'"
      ]
    },
    {
      "cell_type": "code",
      "execution_count": 15,
      "metadata": {
        "colab": {
          "base_uri": "https://localhost:8080/"
        },
        "id": "HBbWyybw_D3Z",
        "outputId": "5bf0ad0f-f778-4afa-d34e-b2a17b595e48"
      },
      "outputs": [
        {
          "name": "stdout",
          "output_type": "stream",
          "text": [
            "WARNING:tensorflow:No training configuration found in the save file, so the model was *not* compiled. Compile it manually.\n",
            "WARNING:tensorflow:No training configuration found in the save file, so the model was *not* compiled. Compile it manually.\n",
            "WARNING:tensorflow:No training configuration found in the save file, so the model was *not* compiled. Compile it manually.\n"
          ]
        }
      ],
      "source": [
        "test_acc_drop_2 = k.models.load_model(test_acc_drop_2_path)\n",
        "test_acc_drop_4 = k.models.load_model(test_acc_drop_4_path)\n",
        "test_acc_drop_10 = k.models.load_model(test_acc_drop_10_path)"
      ]
    },
    {
      "cell_type": "code",
      "execution_count": 16,
      "metadata": {
        "id": "cfIBhRFb_IkB"
      },
      "outputs": [],
      "source": [
        "x_test_data, y_test_data = data_preparation(test_data_path)\n",
        "x_test_poisoned_data, y_test_poisnoed_data = data_preparation(poisoned_test_data_path)"
      ]
    },
    {
      "cell_type": "code",
      "execution_count": 17,
      "metadata": {
        "id": "7BKLN0LRG38W"
      },
      "outputs": [],
      "source": [
        "G_acc_drop_2 = G(model, test_acc_drop_2)\n",
        "G_acc_drop_4 = G(model, test_acc_drop_4)\n",
        "G_acc_drop_10 = G(model, test_acc_drop_10)"
      ]
    },
    {
      "cell_type": "markdown",
      "metadata": {
        "id": "i09cmgaSKErk"
      },
      "source": [
        "### Model evaluation"
      ]
    },
    {
      "cell_type": "code",
      "execution_count": 19,
      "metadata": {
        "colab": {
          "base_uri": "https://localhost:8080/"
        },
        "id": "gYOBO0IJGQ0b",
        "outputId": "d27a52fd-03dc-41a4-c5f4-5c17769581bc"
      },
      "outputs": [
        {
          "name": "stdout",
          "output_type": "stream",
          "text": [
            "401/401 [==============================] - 4s 9ms/step\n",
            "2% drops model, the clean test data Classification accuracy: 95.90023382696803\n",
            "401/401 [==============================] - 3s 8ms/step\n",
            "2% drops model, Attack Success Rate: 100.0\n",
            "401/401 [==============================] - 3s 8ms/step\n",
            "4% drops model, the clean test data classification accuracy: 92.29150428682775\n",
            "401/401 [==============================] - 3s 8ms/step\n",
            "4% drops model, Attack Success Rate: 99.98441153546376\n",
            "401/401 [==============================] - 3s 8ms/step\n",
            "10% drops model, the clean test data classification accuracy: 84.54403741231489\n",
            "401/401 [==============================] - 4s 10ms/step\n",
            "10% drops model, Attack Success Rate: 77.20966484801247\n"
          ]
        }
      ],
      "source": [
        "cl_test_2_label_p = np.argmax(test_acc_drop_2.predict(x_test_data), axis=1)\n",
        "clean_test_2_accuracy = np.mean(np.equal(cl_test_2_label_p, y_test_data))*100\n",
        "print(f\"2% drops model, the clean test data Classification accuracy: {clean_test_2_accuracy}\")\n",
        "\n",
        "bd_test_2_label_p = np.argmax(test_acc_drop_2.predict(x_test_poisoned_data), axis=1)\n",
        "attack_success_rate_2 = np.mean(np.equal(bd_test_2_label_p, y_test_poisnoed_data))*100\n",
        "print(f\"2% drops model, Attack Success Rate: {attack_success_rate_2}\")\n",
        "\n",
        "cl_test_4_label_p = np.argmax(test_acc_drop_4.predict(x_test_data), axis=1)\n",
        "clean_test_4_accuracy = np.mean(np.equal(cl_test_4_label_p, y_test_data))*100\n",
        "print(f\"4% drops model, the clean test data classification accuracy: {clean_test_4_accuracy}\")\n",
        "\n",
        "bd_test_4_label_p = np.argmax(test_acc_drop_4.predict(x_test_poisoned_data), axis=1)\n",
        "attack_success_rate_4 = np.mean(np.equal(bd_test_4_label_p, y_test_poisnoed_data))*100\n",
        "print(f\"4% drops model, Attack Success Rate: {attack_success_rate_4}\")\n",
        "\n",
        "cl_test_10_label_p = np.argmax(test_acc_drop_10.predict(x_test_data), axis=1)\n",
        "clean_test_10_accuracy = np.mean(np.equal(cl_test_10_label_p, y_test_data))*100\n",
        "print(f\"10% drops model, the clean test data classification accuracy: {clean_test_10_accuracy}\")\n",
        "\n",
        "bd_test_10_label_p = np.argmax(test_acc_drop_10.predict(x_test_poisoned_data), axis=1)\n",
        "attack_success_rate_10 = np.mean(np.equal(bd_test_10_label_p, y_test_poisnoed_data))*100\n",
        "print(f\"10% drops model, Attack Success Rate: {attack_success_rate_10}\")"
      ]
    },
    {
      "cell_type": "markdown",
      "metadata": {
        "id": "tixKME3KO1EC"
      },
      "source": [
        "### Metrics for the repaired models"
      ]
    },
    {
      "cell_type": "code",
      "execution_count": 20,
      "metadata": {
        "colab": {
          "base_uri": "https://localhost:8080/",
          "height": 175
        },
        "id": "Q3cmQ_UKOmcU",
        "outputId": "9bb9a081-2703-486b-d1a6-a0d96b2f640e"
      },
      "outputs": [
        {
          "data": {
            "text/html": [
              "<div>\n",
              "<style scoped>\n",
              "    .dataframe tbody tr th:only-of-type {\n",
              "        vertical-align: middle;\n",
              "    }\n",
              "\n",
              "    .dataframe tbody tr th {\n",
              "        vertical-align: top;\n",
              "    }\n",
              "\n",
              "    .dataframe thead th {\n",
              "        text-align: right;\n",
              "    }\n",
              "</style>\n",
              "<table border=\"1\" class=\"dataframe\">\n",
              "  <thead>\n",
              "    <tr style=\"text-align: right;\">\n",
              "      <th></th>\n",
              "      <th>text_acc</th>\n",
              "      <th>attack_rate</th>\n",
              "    </tr>\n",
              "    <tr>\n",
              "      <th>model</th>\n",
              "      <th></th>\n",
              "      <th></th>\n",
              "    </tr>\n",
              "  </thead>\n",
              "  <tbody>\n",
              "    <tr>\n",
              "      <th>repaired_2%</th>\n",
              "      <td>95.900234</td>\n",
              "      <td>100.000000</td>\n",
              "    </tr>\n",
              "    <tr>\n",
              "      <th>repaired_4%</th>\n",
              "      <td>92.291504</td>\n",
              "      <td>99.984412</td>\n",
              "    </tr>\n",
              "    <tr>\n",
              "      <th>repaired_10%</th>\n",
              "      <td>84.544037</td>\n",
              "      <td>77.209665</td>\n",
              "    </tr>\n",
              "  </tbody>\n",
              "</table>\n",
              "</div>"
            ],
            "text/plain": [
              "               text_acc  attack_rate\n",
              "model                               \n",
              "repaired_2%   95.900234   100.000000\n",
              "repaired_4%   92.291504    99.984412\n",
              "repaired_10%  84.544037    77.209665"
            ]
          },
          "execution_count": 20,
          "metadata": {},
          "output_type": "execute_result"
        }
      ],
      "source": [
        "test_acc = [clean_test_2_accuracy, clean_test_4_accuracy, clean_test_10_accuracy]\n",
        "attack_rate = [attack_success_rate_2, attack_success_rate_4, attack_success_rate_10]\n",
        "data = {\n",
        "    \"text_acc\": test_acc,\n",
        "    \"attack_rate\": attack_rate,\n",
        "    \"model\": [\"repaired_2%\", \"repaired_4%\", \"repaired_10%\"]\n",
        "}\n",
        "df = pd.DataFrame(data)\n",
        "df.set_index('model')"
      ]
    },
    {
      "cell_type": "code",
      "execution_count": 21,
      "metadata": {
        "colab": {
          "base_uri": "https://localhost:8080/",
          "height": 312
        },
        "id": "hR7rVgurREls",
        "outputId": "54955674-d962-42e7-d9a7-e2dbdfc898ab"
      },
      "outputs": [
        {
          "data": {
            "image/png": "[encoded data removed]",
            "text/plain": [
              "<Figure size 640x480 with 1 Axes>"
            ]
          },
          "metadata": {},
          "output_type": "display_data"
        }
      ],
      "source": [
        "opacity = 0.4\n",
        "bar_width = 0.35\n",
        "\n",
        "plt.xlabel('% drops model')\n",
        "plt.ylabel('Rate')\n",
        "\n",
        "plt.xticks(range(len(test_acc)),('2%', '4%', '10%'))\n",
        "bar1 = plt.bar(np.arange(len(test_acc)) + bar_width, test_acc, bar_width, align='center', alpha=opacity, color='g', label='accuracy')\n",
        "bar2 = plt.bar(range(len(attack_rate)), attack_rate, bar_width, align='center', alpha=opacity, color='y', label='attack rate')\n",
        "\n",
        "for rect in bar1 + bar2:\n",
        "    height = rect.get_height()\n",
        "    plt.text(rect.get_x() + rect.get_width() / 2.0, height, f'{height:.02f}', ha='center', va='bottom')\n",
        "\n",
        "plt.legend(bbox_to_anchor=(1.4, 1))\n",
        "plt.tight_layout()\n",
        "plt.title('performance of repaired model')\n",
        "plt.show()"
      ]
    },
    {
      "cell_type": "markdown",
      "metadata": {},
      "source": [
        "### Evaluating the performance of the GoodNet"
      ]
    },
    {
      "cell_type": "code",
      "execution_count": 22,
      "metadata": {
        "colab": {
          "base_uri": "https://localhost:8080/"
        },
        "id": "98mQEY9Eogew",
        "outputId": "4e649b8c-6991-4cb1-c26c-2d797b1797bb"
      },
      "outputs": [
        {
          "name": "stdout",
          "output_type": "stream",
          "text": [
            "Combined 2% drops model, the clean test data Classification accuracy: 95.90023382696803\n",
            "Combined 2% drops model, Attack Success Rate: 100.0\n",
            "Combined 4% drops model, the clean test data Classification accuracy: 92.29150428682775\n",
            "Combined 4% drops model, Attack Success Rate: 99.98441153546376\n",
            "Combined 10% drops model, the clean test data Classification accuracy: 84.54403741231489\n",
            "Combined 10% drops model, Attack Success Rate: 77.20966484801247\n"
          ]
        }
      ],
      "source": [
        "G_cl_test_2_label_p = G_acc_drop_2.predict(x_test_data)\n",
        "G_clean_test_2_accuracy = np.mean(np.equal(cl_test_2_label_p, y_test_data))*100\n",
        "print(f'Combined 2% drops model, the clean test data Classification accuracy: {G_clean_test_2_accuracy}')\n",
        "\n",
        "G_bd_test_2_label_p = G_acc_drop_2.predict(x_test_poisoned_data)\n",
        "G_attack_success_rate_2 = np.mean(np.equal(bd_test_2_label_p, y_test_poisnoed_data))*100\n",
        "print(f'Combined 2% drops model, Attack Success Rate: {G_attack_success_rate_2}')\n",
        "\n",
        "G_cl_test_4_label_p = G_acc_drop_4.predict(x_test_data)\n",
        "G_clean_test_4_accuracy = np.mean(np.equal(cl_test_4_label_p, y_test_data))*100\n",
        "print(f'Combined 4% drops model, the clean test data Classification accuracy: {G_clean_test_4_accuracy}')\n",
        "\n",
        "G_bd_test_4_label_p = G_acc_drop_4.predict(x_test_poisoned_data)\n",
        "G_attack_success_rate_4 = np.mean(np.equal(bd_test_4_label_p, y_test_poisnoed_data))*100\n",
        "print(f'Combined 4% drops model, Attack Success Rate: {G_attack_success_rate_4}')\n",
        "\n",
        "G_cl_test_10_label_p = G_acc_drop_10.predict(x_test_data)\n",
        "G_clean_test_10_accuracy = np.mean(np.equal(cl_test_10_label_p, y_test_data))*100\n",
        "print(f'Combined 10% drops model, the clean test data Classification accuracy: {G_clean_test_10_accuracy}')\n",
        "\n",
        "G_bd_test_10_label_p = G_acc_drop_10.predict(x_test_poisoned_data)\n",
        "G_attack_success_rate_10 = np.mean(np.equal(bd_test_10_label_p, y_test_poisnoed_data))*100\n",
        "print(f'Combined 10% drops model, Attack Success Rate: {G_attack_success_rate_10}')"
      ]
    },
    {
      "cell_type": "code",
      "execution_count": 23,
      "metadata": {
        "colab": {
          "base_uri": "https://localhost:8080/",
          "height": 175
        },
        "id": "9VgzlpEyqeKK",
        "outputId": "433b5a35-cc85-44c4-9456-2f77c38bf37e"
      },
      "outputs": [
        {
          "data": {
            "text/html": [
              "<div>\n",
              "<style scoped>\n",
              "    .dataframe tbody tr th:only-of-type {\n",
              "        vertical-align: middle;\n",
              "    }\n",
              "\n",
              "    .dataframe tbody tr th {\n",
              "        vertical-align: top;\n",
              "    }\n",
              "\n",
              "    .dataframe thead th {\n",
              "        text-align: right;\n",
              "    }\n",
              "</style>\n",
              "<table border=\"1\" class=\"dataframe\">\n",
              "  <thead>\n",
              "    <tr style=\"text-align: right;\">\n",
              "      <th></th>\n",
              "      <th>G_text_acc</th>\n",
              "      <th>G_attack_rate</th>\n",
              "    </tr>\n",
              "    <tr>\n",
              "      <th>G_model</th>\n",
              "      <th></th>\n",
              "      <th></th>\n",
              "    </tr>\n",
              "  </thead>\n",
              "  <tbody>\n",
              "    <tr>\n",
              "      <th>G_2%</th>\n",
              "      <td>95.900234</td>\n",
              "      <td>100.000000</td>\n",
              "    </tr>\n",
              "    <tr>\n",
              "      <th>G_4%</th>\n",
              "      <td>92.291504</td>\n",
              "      <td>99.984412</td>\n",
              "    </tr>\n",
              "    <tr>\n",
              "      <th>G_10%</th>\n",
              "      <td>84.544037</td>\n",
              "      <td>77.209665</td>\n",
              "    </tr>\n",
              "  </tbody>\n",
              "</table>\n",
              "</div>"
            ],
            "text/plain": [
              "         G_text_acc  G_attack_rate\n",
              "G_model                           \n",
              "G_2%      95.900234     100.000000\n",
              "G_4%      92.291504      99.984412\n",
              "G_10%     84.544037      77.209665"
            ]
          },
          "execution_count": 23,
          "metadata": {},
          "output_type": "execute_result"
        }
      ],
      "source": [
        "G_test_acc = [G_clean_test_2_accuracy, G_clean_test_4_accuracy, G_clean_test_10_accuracy]\n",
        "G_attack_rate = [G_attack_success_rate_2, G_attack_success_rate_4, G_attack_success_rate_10]\n",
        "G_data = {\n",
        "    \"G_text_acc\": G_test_acc,\n",
        "    \"G_attack_rate\": G_attack_rate,\n",
        "    \"G_model\": [\"G_2%\", \"G_4%\", \"G_10%\"]\n",
        "}\n",
        "G_df = pd.DataFrame(G_data)\n",
        "G_df.set_index('G_model')"
      ]
    },
    {
      "cell_type": "code",
      "execution_count": 28,
      "metadata": {
        "colab": {
          "base_uri": "https://localhost:8080/",
          "height": 312
        },
        "id": "L0kFQv9Uq7Iq",
        "outputId": "1500e366-3de7-416e-e478-f370d08de7c8"
      },
      "outputs": [
        {
          "data": {
            "image/png": "[encoded data removed]",
            "text/plain": [
              "<Figure size 640x480 with 1 Axes>"
            ]
          },
          "metadata": {},
          "output_type": "display_data"
        }
      ],
      "source": [
        "opacity = 0.4\n",
        "bar_width = 0.35\n",
        "\n",
        "plt.xlabel('combined % drops model')\n",
        "plt.ylabel('Rate')\n",
        "\n",
        "plt.xticks(range(len(G_test_acc)),('2%', '4%', '10%'))\n",
        "bar1 = plt.bar(np.arange(len(G_test_acc)) + bar_width, G_test_acc, bar_width, align='center', alpha=opacity, color='g', label='accuracy')\n",
        "bar2 = plt.bar(range(len(G_attack_rate)),G_attack_rate, bar_width, align='center', alpha=opacity, color='y', label='attack rate')\n",
        "\n",
        "for rect in bar1 + bar2:\n",
        "    height = rect.get_height()\n",
        "    plt.text(rect.get_x() + rect.get_width() / 2.0, height, f'{height:.02f}', ha='center', va='bottom')\n",
        "\n",
        "plt.legend(bbox_to_anchor=(1.4, 1))\n",
        "plt.tight_layout()\n",
        "plt.title('combined network metrics')\n",
        "plt.show()"
      ]
    },
    {
      "cell_type": "code",
      "execution_count": null,
      "metadata": {},
      "outputs": [],
      "source": []
    }
  ],
  "metadata": {
    "colab": {
      "machine_shape": "hm",
      "name": "Lab3_sp5894.ipynb",
      "provenance": []
    },
    "kernelspec": {
      "display_name": "Python 3",
      "name": "python3"
    },
    "language_info": {
      "codemirror_mode": {
        "name": "ipython",
        "version": 3
      },
      "file_extension": ".py",
      "mimetype": "text/x-python",
      "name": "python",
      "nbconvert_exporter": "python",
      "pygments_lexer": "ipython3",
      "version": "3.11.0"
    }
  },
  "nbformat": 4,
  "nbformat_minor": 0
}
